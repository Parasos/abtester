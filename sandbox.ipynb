{
 "cells": [
  {
   "cell_type": "markdown",
   "id": "c87709e4-2572-4867-adfb-355b0199d994",
   "metadata": {},
   "source": [
    "# A/B Tester"
   ]
  },
  {
   "cell_type": "code",
   "execution_count": 21,
   "id": "67e3e3cd-3027-49a6-87b0-45aa45cc1aa5",
   "metadata": {},
   "outputs": [],
   "source": [
    "import math\n",
    "import numpy as np\n",
    "import pandas as pd\n",
    "from scipy.stats import norm"
   ]
  },
  {
   "cell_type": "markdown",
   "id": "c8c4b934-3513-4ccf-9f24-52d89f5f545d",
   "metadata": {
    "tags": []
   },
   "source": [
    "## Proportions sample size"
   ]
  },
  {
   "cell_type": "code",
   "execution_count": null,
   "id": "c7dabf75-db21-4202-9e55-0adb8ac832d0",
   "metadata": {},
   "outputs": [],
   "source": []
  },
  {
   "cell_type": "markdown",
   "id": "c3469f36-f217-4cb3-b485-63ff7d9818ba",
   "metadata": {},
   "source": [
    "## Means sample size"
   ]
  },
  {
   "cell_type": "code",
   "execution_count": 22,
   "id": "d74aae74-3aaf-4f6a-a387-67d85b3b9055",
   "metadata": {},
   "outputs": [],
   "source": [
    "def get_alpha(confidence_level):\n",
    "    return 1 - confidence_level"
   ]
  },
  {
   "cell_type": "code",
   "execution_count": 23,
   "id": "ad7d31b2-eb2b-4519-8e3d-31a9b9035f5b",
   "metadata": {},
   "outputs": [],
   "source": [
    "def get_beta(power):\n",
    "    return 1 - power"
   ]
  },
  {
   "cell_type": "code",
   "execution_count": 24,
   "id": "b69a565b-49fc-4a1b-8411-9e6fd4b0cc33",
   "metadata": {},
   "outputs": [],
   "source": [
    "df = pd.read_csv(\"sample_datasets/minimum_sample/dataset_a.csv\")"
   ]
  },
  {
   "cell_type": "code",
   "execution_count": 25,
   "id": "e1688d6f-7d89-442f-a825-1dc08b52c48d",
   "metadata": {},
   "outputs": [
    {
     "data": {
      "text/html": [
       "<div>\n",
       "<style scoped>\n",
       "    .dataframe tbody tr th:only-of-type {\n",
       "        vertical-align: middle;\n",
       "    }\n",
       "\n",
       "    .dataframe tbody tr th {\n",
       "        vertical-align: top;\n",
       "    }\n",
       "\n",
       "    .dataframe thead th {\n",
       "        text-align: right;\n",
       "    }\n",
       "</style>\n",
       "<table border=\"1\" class=\"dataframe\">\n",
       "  <thead>\n",
       "    <tr style=\"text-align: right;\">\n",
       "      <th></th>\n",
       "      <th>measurement</th>\n",
       "    </tr>\n",
       "  </thead>\n",
       "  <tbody>\n",
       "    <tr>\n",
       "      <th>0</th>\n",
       "      <td>151</td>\n",
       "    </tr>\n",
       "    <tr>\n",
       "      <th>1</th>\n",
       "      <td>157</td>\n",
       "    </tr>\n",
       "    <tr>\n",
       "      <th>2</th>\n",
       "      <td>154</td>\n",
       "    </tr>\n",
       "    <tr>\n",
       "      <th>3</th>\n",
       "      <td>151</td>\n",
       "    </tr>\n",
       "    <tr>\n",
       "      <th>4</th>\n",
       "      <td>152</td>\n",
       "    </tr>\n",
       "  </tbody>\n",
       "</table>\n",
       "</div>"
      ],
      "text/plain": [
       "   measurement\n",
       "0          151\n",
       "1          157\n",
       "2          154\n",
       "3          151\n",
       "4          152"
      ]
     },
     "execution_count": 25,
     "metadata": {},
     "output_type": "execute_result"
    }
   ],
   "source": [
    "df.head()"
   ]
  },
  {
   "cell_type": "code",
   "execution_count": 26,
   "id": "191dfbc6-9539-4786-85e8-2cbf9e06e933",
   "metadata": {},
   "outputs": [
    {
     "data": {
      "text/html": [
       "<div>\n",
       "<style scoped>\n",
       "    .dataframe tbody tr th:only-of-type {\n",
       "        vertical-align: middle;\n",
       "    }\n",
       "\n",
       "    .dataframe tbody tr th {\n",
       "        vertical-align: top;\n",
       "    }\n",
       "\n",
       "    .dataframe thead th {\n",
       "        text-align: right;\n",
       "    }\n",
       "</style>\n",
       "<table border=\"1\" class=\"dataframe\">\n",
       "  <thead>\n",
       "    <tr style=\"text-align: right;\">\n",
       "      <th></th>\n",
       "      <th>measurement</th>\n",
       "    </tr>\n",
       "  </thead>\n",
       "  <tbody>\n",
       "    <tr>\n",
       "      <th>count</th>\n",
       "      <td>100.000000</td>\n",
       "    </tr>\n",
       "    <tr>\n",
       "      <th>mean</th>\n",
       "      <td>150.090000</td>\n",
       "    </tr>\n",
       "    <tr>\n",
       "      <th>std</th>\n",
       "      <td>5.191475</td>\n",
       "    </tr>\n",
       "    <tr>\n",
       "      <th>min</th>\n",
       "      <td>137.000000</td>\n",
       "    </tr>\n",
       "    <tr>\n",
       "      <th>25%</th>\n",
       "      <td>146.000000</td>\n",
       "    </tr>\n",
       "    <tr>\n",
       "      <th>50%</th>\n",
       "      <td>150.000000</td>\n",
       "    </tr>\n",
       "    <tr>\n",
       "      <th>75%</th>\n",
       "      <td>154.000000</td>\n",
       "    </tr>\n",
       "    <tr>\n",
       "      <th>max</th>\n",
       "      <td>161.000000</td>\n",
       "    </tr>\n",
       "  </tbody>\n",
       "</table>\n",
       "</div>"
      ],
      "text/plain": [
       "       measurement\n",
       "count   100.000000\n",
       "mean    150.090000\n",
       "std       5.191475\n",
       "min     137.000000\n",
       "25%     146.000000\n",
       "50%     150.000000\n",
       "75%     154.000000\n",
       "max     161.000000"
      ]
     },
     "execution_count": 26,
     "metadata": {},
     "output_type": "execute_result"
    }
   ],
   "source": [
    "df.describe()"
   ]
  },
  {
   "cell_type": "code",
   "execution_count": 27,
   "id": "314ad441-929a-46af-8dcd-af9193143c5a",
   "metadata": {},
   "outputs": [],
   "source": [
    "sensitivity = 0.1\n",
    "alternative = \"two-sided\"\n",
    "confidence_level = 0.95\n",
    "power = 0.8\n",
    "control_ratio = 0.5\n",
    "treatment_ratio = 0.5"
   ]
  },
  {
   "cell_type": "code",
   "execution_count": 28,
   "id": "b3ea08a3-ebee-4072-9195-2b5da2824cff",
   "metadata": {},
   "outputs": [
    {
     "name": "stdout",
     "output_type": "stream",
     "text": [
      "0.050000000000000044\n",
      "0.19999999999999996\n"
     ]
    }
   ],
   "source": [
    "alpha = get_alpha(confidence_level)\n",
    "beta = get_beta(power)\n",
    "\n",
    "print(alpha)\n",
    "print(beta)"
   ]
  },
  {
   "cell_type": "code",
   "execution_count": 29,
   "id": "6ac73087-a5ce-4f5e-a46c-0d8326649c60",
   "metadata": {},
   "outputs": [
    {
     "name": "stdout",
     "output_type": "stream",
     "text": [
      "1.959963984540054\n"
     ]
    }
   ],
   "source": [
    "print(z_alpha)"
   ]
  },
  {
   "cell_type": "code",
   "execution_count": 30,
   "id": "65f4898d-f068-44a5-b213-1a2aa6c1685e",
   "metadata": {},
   "outputs": [
    {
     "name": "stdout",
     "output_type": "stream",
     "text": [
      "0.8416212335729143\n"
     ]
    }
   ],
   "source": [
    "print(z_beta)"
   ]
  },
  {
   "cell_type": "code",
   "execution_count": 35,
   "id": "fb92d190-b4df-473b-bb6a-b7170d10995f",
   "metadata": {},
   "outputs": [],
   "source": [
    "z_alpha = norm.ppf(1 - alpha / 2)  # Mudar o alpha / 2\n",
    "z_beta = norm.ppf(1 - beta)\n",
    "a = 1 / control_ratio + 1 / treatment_ratio\n",
    "b = pow(z_alpha + z_beta, 2)\n",
    "effect_size = df[\"measurement\"].mean()*(1 + sensitivity)\n",
    "\n",
    "std_dev = df[\"measurement\"].std()\n",
    "\n",
    "total_sample = math.ceil(a * b / pow(effect_size / std_dev, 2)) # Mudar o sensitivity\n",
    "control_sample = math.ceil(total_sample * control_ratio)\n",
    "treatment_sample = math.ceil(total_sample * treatment_ratio)"
   ]
  },
  {
   "cell_type": "code",
   "execution_count": 36,
   "id": "a811da10-6983-453b-a24b-dae03b5085b4",
   "metadata": {},
   "outputs": [
    {
     "name": "stdout",
     "output_type": "stream",
     "text": [
      "Minimum sample for the control group: 1\n",
      "Minimum sample for the treatment group: 1\n",
      "Total minimum sample for the experiment: 2\n"
     ]
    }
   ],
   "source": [
    "print(f\"Minimum sample for the control group: {control_sample}\")\n",
    "print(f\"Minimum sample for the treatment group: {treatment_sample}\")\n",
    "print(f\"Total minimum sample for the experiment: {control_sample + treatment_sample}\")"
   ]
  },
  {
   "cell_type": "markdown",
   "id": "05df6c2d-e0bb-4db3-8d2f-94bc162bd27b",
   "metadata": {},
   "source": [
    "2023-10-20, wrong answer due to using the sensitivity as the effect size in the formula.\n",
    "\n",
    "Parameters:\n",
    "sensitivity = 0.1\n",
    "alternative = \"two-sided\"\n",
    "confidence_level = 0.95\n",
    "power = 0.8\n",
    "control_ratio = 0.5\n",
    "treatment_ratio = 0.5\n",
    "\n",
    "Wring results:\n",
    "Minimum sample for the control group: 42308\n",
    "Minimum sample for the treatment group: 42308\n",
    "Total minimum sample for the experiment: 84616\n",
    "\n",
    "Correct results:\n",
    "Minimum sample for the control group: 1\n",
    "Minimum sample for the treatment group: 1\n",
    "Total minimum sample for the experiment: 2"
   ]
  },
  {
   "cell_type": "markdown",
   "id": "45490174-eb68-4063-91c2-2540621f21b7",
   "metadata": {},
   "source": [
    "2023-10-20, wrong answer due to using the two-sided hypothesis formula as the one-sided.\n",
    "\n",
    "Parameters:\n",
    "sensitivity = 0.1\n",
    "alternative = \"one-sided\"\n",
    "confidence_level = 0.95\n",
    "power = 0.8\n",
    "control_ratio = 0.5\n",
    "treatment_ratio = 0.5\n",
    "\n",
    "Wrong results:\n",
    "Minimum sample for the control group: 42308\n",
    "Minimum sample for the treatment group: 42308\n",
    "Total minimum sample for the experiment: 84616\n",
    "\n",
    "Correct results:\n",
    "Minimum sample for the control group: 33326\n",
    "Minimum sample for the treatment group: 33326\n",
    "Total minimum sample for the experiment: 66652"
   ]
  },
  {
   "cell_type": "markdown",
   "id": "cc865163-eca5-450a-9051-525e2b966b0a",
   "metadata": {},
   "source": [
    "## Proportions statistical significance"
   ]
  },
  {
   "cell_type": "markdown",
   "id": "ca68b0b9-cafa-4340-88ec-5898d4d0e7c5",
   "metadata": {},
   "source": [
    "## Means statistical significance"
   ]
  },
  {
   "cell_type": "code",
   "execution_count": null,
   "id": "3ab9bfe2-9248-4800-9320-15f9f44fe754",
   "metadata": {},
   "outputs": [],
   "source": [
    "def show_code(test, sensitivity, confidence_level, power, control_conversion, alternative):\n",
    "    code = template.render(\n",
    "        test=test,\n",
    "        control_conversion=control_conversion,\n",
    "        sensitivity=sensitivity,\n",
    "        alternative=alternative,\n",
    "        confidence_level=confidence_level,\n",
    "        power=power,\n",
    "    )"
   ]
  },
  {
   "cell_type": "code",
   "execution_count": null,
   "id": "9db201c6-1f40-461e-ba42-351c4bc0f0f5",
   "metadata": {},
   "outputs": [],
   "source": [
    "code = template.render(\n",
    "    test=test,\n",
    "    control_conversion=control_conversion,\n",
    "    sensitivity=sensitivity,\n",
    "    alternative=alternative,\n",
    "    confidence_level=confidence_level,\n",
    "    power=power,\n",
    ")\n",
    "with st.expander(\"Show the code\"):\n",
    "    st.code(code, language=\"python\")"
   ]
  },
  {
   "cell_type": "code",
   "execution_count": null,
   "id": "53aa5fac-2497-4f06-9fb7-01d73142f1e0",
   "metadata": {},
   "outputs": [],
   "source": [
    "code = template.render(\n",
    "    test=test,\n",
    "    sensitivity=sensitivity,\n",
    "    confidence_level=confidence_level,\n",
    "    power=power,\n",
    ")\n",
    "with st.expander(\"Show the code\"):\n",
    "    st.code(code, language=\"python\")"
   ]
  },
  {
   "cell_type": "markdown",
   "id": "9de7cbde-8441-4496-b58f-62a08041cb80",
   "metadata": {},
   "source": [
    "statistical significance"
   ]
  },
  {
   "cell_type": "code",
   "execution_count": null,
   "id": "f75d7508-6533-4af8-ace5-8ab1918dc772",
   "metadata": {},
   "outputs": [],
   "source": [
    "code = template.render(\n",
    "    test=test,\n",
    "    control_users=control_users,\n",
    "    treatment_users=treatment_users,\n",
    "    control_conversions=control_conversions,\n",
    "    treatment_conversions=treatment_conversions,\n",
    "    confidence_level=confidence_level,\n",
    ")\n",
    "with st.expander(\"Show the code\"):\n",
    "    st.code(code, language=\"python\")"
   ]
  },
  {
   "cell_type": "code",
   "execution_count": null,
   "id": "60c4eae8-46d0-40ac-8c3e-dcf137c4381f",
   "metadata": {},
   "outputs": [],
   "source": [
    "code = template.render(test=test, confidence_level=confidence_level)\n",
    "with st.expander(\"Show the code\"):\n",
    "    st.code(code, language=\"python\")"
   ]
  }
 ],
 "metadata": {
  "kernelspec": {
   "display_name": "Python 3 (ipykernel)",
   "language": "python",
   "name": "python3"
  },
  "language_info": {
   "codemirror_mode": {
    "name": "ipython",
    "version": 3
   },
   "file_extension": ".py",
   "mimetype": "text/x-python",
   "name": "python",
   "nbconvert_exporter": "python",
   "pygments_lexer": "ipython3",
   "version": "3.9.11"
  }
 },
 "nbformat": 4,
 "nbformat_minor": 5
}
